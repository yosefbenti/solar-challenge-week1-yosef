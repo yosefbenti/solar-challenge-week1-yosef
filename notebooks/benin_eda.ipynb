{
 "cells": [
  {
   "cell_type": "code",
   "execution_count": null,
   "id": "b5cad51d",
   "metadata": {},
   "outputs": [
    {
     "ename": "ModuleNotFoundError",
     "evalue": "No module named 'scipy'",
     "output_type": "error",
     "traceback": [
      "\u001b[1;31m---------------------------------------------------------------------------\u001b[0m",
      "\u001b[1;31mModuleNotFoundError\u001b[0m                       Traceback (most recent call last)",
      "Cell \u001b[1;32mIn[3], line 5\u001b[0m\n\u001b[0;32m      3\u001b[0m \u001b[38;5;28;01mimport\u001b[39;00m\u001b[38;5;250m \u001b[39m\u001b[38;5;21;01mmatplotlib\u001b[39;00m\u001b[38;5;21;01m.\u001b[39;00m\u001b[38;5;21;01mpyplot\u001b[39;00m\u001b[38;5;250m \u001b[39m\u001b[38;5;28;01mas\u001b[39;00m\u001b[38;5;250m \u001b[39m\u001b[38;5;21;01mplt\u001b[39;00m\n\u001b[0;32m      4\u001b[0m \u001b[38;5;28;01mimport\u001b[39;00m\u001b[38;5;250m \u001b[39m\u001b[38;5;21;01mseaborn\u001b[39;00m\u001b[38;5;250m \u001b[39m\u001b[38;5;28;01mas\u001b[39;00m\u001b[38;5;250m \u001b[39m\u001b[38;5;21;01msns\u001b[39;00m\n\u001b[1;32m----> 5\u001b[0m \u001b[38;5;28;01mfrom\u001b[39;00m\u001b[38;5;250m \u001b[39m\u001b[38;5;21;01mscipy\u001b[39;00m\u001b[38;5;21;01m.\u001b[39;00m\u001b[38;5;21;01mstats\u001b[39;00m\u001b[38;5;250m \u001b[39m\u001b[38;5;28;01mimport\u001b[39;00m zscore\n\u001b[0;32m      7\u001b[0m \u001b[38;5;66;03m# load the cvs data from data folder\u001b[39;00m\n\u001b[0;32m      8\u001b[0m df \u001b[38;5;241m=\u001b[39m pd\u001b[38;5;241m.\u001b[39mread_csv(\u001b[38;5;124m'\u001b[39m\u001b[38;5;124m./data/benin-malanville.csv\u001b[39m\u001b[38;5;124m'\u001b[39m)  \u001b[38;5;66;03m# Adjust path as needed\u001b[39;00m\n",
      "\u001b[1;31mModuleNotFoundError\u001b[0m: No module named 'scipy'"
     ]
    }
   ],
   "source": [
    "import pandas as pd\n",
    "import numpy as np\n",
    "import matplotlib.pyplot as plt\n",
    "import seaborn as sns\n",
    "from scipy.stats import zscore\n",
    "\n",
    "%matplotlib inline  # Only for Jupyter\n",
    "\n",
    "# Load the CSV data from data folder\n",
    "df = pd.read_csv('../data/benin-malanville.csv')  # Adjust path as needed\n",
    "display(df.head())  # Show first few rows\n",
    "\n",
    "# Summary Statistics & Missing Values\n",
    "print(df.describe())\n",
    "print(df.isna().sum())\n",
    "\n",
    "# Z-score Outlier Detection\n",
    "for col in ['GHI', 'DNI', 'DHI', 'ModA', 'ModB', 'RH', 'WS', 'WSgust',\n",
    "            'WSstdev','WD','WDstdev','BP','Cleaning','Precipitation',\n",
    "            'TModA','TModB']:\n",
    "    if col in df.columns:\n",
    "        df[f'{col}_zscore'] = zscore(df[col].fillna(df[col].median()))\n",
    "        df = df[df[f'{col}_zscore'].abs() <= 3]\n",
    "\n",
    "# Fill missing values\n",
    "df.fillna(df.median(numeric_only=True), inplace=True)\n",
    "\n",
    "# Save cleaned data\n",
    "df.to_csv('../data/benin_clean.csv', index=False)\n",
    "\n",
    "# Plot GHI over time\n",
    "if 'Timestamp' in df.columns:\n",
    "    df['Timestamp'] = pd.to_datetime(df['Timestamp'])\n",
    "    plt.figure(figsize=(10, 4))\n",
    "    plt.plot(df['Timestamp'], df['GHI'])\n",
    "    plt.title('GHI Over Time')\n",
    "    plt.xlabel('Timestamp')\n",
    "    plt.ylabel('GHI')\n",
    "    plt.tight_layout()\n",
    "    plt.show()\n"
   ]
  },
  {
   "cell_type": "code",
   "execution_count": null,
   "id": "f29a4e41",
   "metadata": {},
   "outputs": [],
   "source": []
  }
 ],
 "metadata": {
  "kernelspec": {
   "display_name": "Python 3",
   "language": "python",
   "name": "python3"
  },
  "language_info": {
   "codemirror_mode": {
    "name": "ipython",
    "version": 3
   },
   "file_extension": ".py",
   "mimetype": "text/x-python",
   "name": "python",
   "nbconvert_exporter": "python",
   "pygments_lexer": "ipython3",
   "version": "3.12.10"
  }
 },
 "nbformat": 4,
 "nbformat_minor": 5
}
